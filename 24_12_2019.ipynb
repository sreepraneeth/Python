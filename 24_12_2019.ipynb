{
  "nbformat": 4,
  "nbformat_minor": 0,
  "metadata": {
    "colab": {
      "name": "24/12/2019.ipynb",
      "provenance": [],
      "collapsed_sections": [],
      "include_colab_link": true
    },
    "kernelspec": {
      "name": "python3",
      "display_name": "Python 3"
    }
  },
  "cells": [
    {
      "cell_type": "markdown",
      "metadata": {
        "id": "view-in-github",
        "colab_type": "text"
      },
      "source": [
        "<a href=\"https://colab.research.google.com/github/sreepraneeth/Python/blob/master/24_12_2019.ipynb\" target=\"_parent\"><img src=\"https://colab.research.google.com/assets/colab-badge.svg\" alt=\"Open In Colab\"/></a>"
      ]
    },
    {
      "cell_type": "code",
      "metadata": {
        "id": "Cp9kEIJMB5Nk",
        "colab_type": "code",
        "colab": {}
      },
      "source": [
        ""
      ],
      "execution_count": 0,
      "outputs": []
    },
    {
      "cell_type": "markdown",
      "metadata": {
        "id": "7NzTzDC-C3mq",
        "colab_type": "text"
      },
      "source": [
        "#Markdown\n",
        "##Markdown\n",
        "###Markdown\n",
        "####Markdown\n"
      ]
    },
    {
      "cell_type": "code",
      "metadata": {
        "id": "SJrFkG4iDugE",
        "colab_type": "code",
        "colab": {}
      },
      "source": [
        ""
      ],
      "execution_count": 0,
      "outputs": []
    },
    {
      "cell_type": "markdown",
      "metadata": {
        "id": "nHvi8WZLFkP0",
        "colab_type": "text"
      },
      "source": [
        "**Python**\n",
        "*Python*\n"
      ]
    },
    {
      "cell_type": "code",
      "metadata": {
        "id": "yvHfzUjwGPpc",
        "colab_type": "code",
        "colab": {}
      },
      "source": [
        ""
      ],
      "execution_count": 0,
      "outputs": []
    },
    {
      "cell_type": "markdown",
      "metadata": {
        "id": "qW9O6eGHGReD",
        "colab_type": "text"
      },
      "source": [
        "##Insert image\n",
        "![Text](https://therightsofnature.org/wp-content/uploads/2018/01/turkey-3048299_1920-1366x550.jpg)"
      ]
    },
    {
      "cell_type": "code",
      "metadata": {
        "id": "PDv9sShsKtVs",
        "colab_type": "code",
        "colab": {}
      },
      "source": [
        ""
      ],
      "execution_count": 0,
      "outputs": []
    },
    {
      "cell_type": "markdown",
      "metadata": {
        "id": "nbKN4CZhHqRc",
        "colab_type": "text"
      },
      "source": [
        "#Insert site\n",
        "[ site ](https://www.gitam.edu/)"
      ]
    },
    {
      "cell_type": "code",
      "metadata": {
        "id": "LJ_Hp9IlIdJc",
        "colab_type": "code",
        "outputId": "b611f04c-ef4a-45b9-b324-7c2333ce9e6d",
        "colab": {
          "base_uri": "https://localhost:8080/",
          "height": 34
        }
      },
      "source": [
        "print(\"hello world\")\n"
      ],
      "execution_count": 0,
      "outputs": [
        {
          "output_type": "stream",
          "text": [
            "hello world\n"
          ],
          "name": "stdout"
        }
      ]
    },
    {
      "cell_type": "code",
      "metadata": {
        "id": "s0gNbwBXKDBt",
        "colab_type": "code",
        "outputId": "2ca57a4a-8574-43c4-859c-e1e875161ffa",
        "colab": {
          "base_uri": "https://localhost:8080/",
          "height": 34
        }
      },
      "source": [
        "print(\"Hello,hyderabad!\")"
      ],
      "execution_count": 0,
      "outputs": [
        {
          "output_type": "stream",
          "text": [
            "Hello,hyderabad!\n"
          ],
          "name": "stdout"
        }
      ]
    },
    {
      "cell_type": "code",
      "metadata": {
        "id": "TiZeaJxsKX2l",
        "colab_type": "code",
        "outputId": "116fd771-767d-48ca-d2cb-c621bb92d4fb",
        "colab": {
          "base_uri": "https://localhost:8080/",
          "height": 34
        }
      },
      "source": [
        "x=12\n",
        "y=18\n",
        "print(x,y)"
      ],
      "execution_count": 0,
      "outputs": [
        {
          "output_type": "stream",
          "text": [
            "12 18\n"
          ],
          "name": "stdout"
        }
      ]
    },
    {
      "cell_type": "markdown",
      "metadata": {
        "id": "r3GPil1SC13K",
        "colab_type": "text"
      },
      "source": [
        ""
      ]
    },
    {
      "cell_type": "code",
      "metadata": {
        "id": "UYOOb8oUCmY2",
        "colab_type": "code",
        "outputId": "70240a5b-abdf-4b5d-85dc-d2977a565872",
        "colab": {
          "base_uri": "https://localhost:8080/",
          "height": 34
        }
      },
      "source": [
        "a=b=c=20\n",
        "print(a,b,c)"
      ],
      "execution_count": 0,
      "outputs": [
        {
          "output_type": "stream",
          "text": [
            "20 20 20\n"
          ],
          "name": "stdout"
        }
      ]
    },
    {
      "cell_type": "code",
      "metadata": {
        "id": "k7J4FNxpLQTk",
        "colab_type": "code",
        "outputId": "0f1133e8-6703-4fed-c682-44e39aa50c40",
        "colab": {
          "base_uri": "https://localhost:8080/",
          "height": 34
        }
      },
      "source": [
        "p,q,r=20,40,60\n",
        "print(p,q,r)"
      ],
      "execution_count": 0,
      "outputs": [
        {
          "output_type": "stream",
          "text": [
            "20 40 60\n"
          ],
          "name": "stdout"
        }
      ]
    },
    {
      "cell_type": "markdown",
      "metadata": {
        "id": "bgHVpMwYL63G",
        "colab_type": "text"
      },
      "source": [
        "#Data typees and conversions\n",
        "-int \n",
        "-float\n",
        "-string\n",
        "-boolean\n",
        "-complex"
      ]
    },
    {
      "cell_type": "code",
      "metadata": {
        "id": "W5hNQX5kMY1N",
        "colab_type": "code",
        "outputId": "fa7cd5a7-2ae7-4f79-cba7-cd4004bf76af",
        "colab": {
          "base_uri": "https://localhost:8080/",
          "height": 68
        }
      },
      "source": [
        "x=10\n",
        "y=12.56\n",
        "z=3+5j\n",
        "print(type(x))\n",
        "print(type(y))\n",
        "print(type(z))"
      ],
      "execution_count": 0,
      "outputs": [
        {
          "output_type": "stream",
          "text": [
            "<class 'int'>\n",
            "<class 'float'>\n",
            "<class 'complex'>\n"
          ],
          "name": "stdout"
        }
      ]
    },
    {
      "cell_type": "code",
      "metadata": {
        "id": "HZ9Mq3zRNcdU",
        "colab_type": "code",
        "outputId": "91053149-d4d0-48c9-ceff-90553eb2783f",
        "colab": {
          "base_uri": "https://localhost:8080/",
          "height": 34
        }
      },
      "source": [
        "x=4\n",
        "y=10\n",
        "x<y"
      ],
      "execution_count": 0,
      "outputs": [
        {
          "output_type": "execute_result",
          "data": {
            "text/plain": [
              "True"
            ]
          },
          "metadata": {
            "tags": []
          },
          "execution_count": 8
        }
      ]
    },
    {
      "cell_type": "code",
      "metadata": {
        "id": "_zEJq60WN6oL",
        "colab_type": "code",
        "outputId": "439c2854-3cd2-4c44-bea3-24d7e9c4dc1e",
        "colab": {
          "base_uri": "https://localhost:8080/",
          "height": 51
        }
      },
      "source": [
        "#string\n",
        "s1=\"abc\"\n",
        "s2=\"xyz\"\n",
        "print(type(s1))\n",
        "print(type(s2))"
      ],
      "execution_count": 0,
      "outputs": [
        {
          "output_type": "stream",
          "text": [
            "<class 'str'>\n",
            "<class 'str'>\n"
          ],
          "name": "stdout"
        }
      ]
    },
    {
      "cell_type": "code",
      "metadata": {
        "id": "FVnc4mwAOyc9",
        "colab_type": "code",
        "outputId": "18d30fde-28b2-4d91-d3a2-fec64475269d",
        "colab": {
          "base_uri": "https://localhost:8080/",
          "height": 34
        }
      },
      "source": [
        "a=\"123\"\n",
        "print(type(a))"
      ],
      "execution_count": 0,
      "outputs": [
        {
          "output_type": "stream",
          "text": [
            "<class 'str'>\n"
          ],
          "name": "stdout"
        }
      ]
    },
    {
      "cell_type": "code",
      "metadata": {
        "id": "0Jg-iYvYO9fE",
        "colab_type": "code",
        "outputId": "a1f3ed9f-ff14-4f38-90ee-aa43fb58ee74",
        "colab": {
          "base_uri": "https://localhost:8080/",
          "height": 68
        }
      },
      "source": [
        "i=100\n",
        "print(type(i))\n",
        "s1=str(i)\n",
        "print(type(s1))\n",
        "f=float(i)\n",
        "print(type(f))"
      ],
      "execution_count": 0,
      "outputs": [
        {
          "output_type": "stream",
          "text": [
            "<class 'int'>\n",
            "<class 'str'>\n",
            "<class 'float'>\n"
          ],
          "name": "stdout"
        }
      ]
    },
    {
      "cell_type": "code",
      "metadata": {
        "id": "ELpzxwUDPzte",
        "colab_type": "code",
        "outputId": "c8ef4160-8e44-4fe1-f306-b3ba1890111c",
        "colab": {
          "base_uri": "https://localhost:8080/",
          "height": 34
        }
      },
      "source": [
        "c=complex(5,7)\n",
        "print(c)"
      ],
      "execution_count": 0,
      "outputs": [
        {
          "output_type": "stream",
          "text": [
            "(5+7j)\n"
          ],
          "name": "stdout"
        }
      ]
    },
    {
      "cell_type": "markdown",
      "metadata": {
        "id": "RqL6t7bDP-7c",
        "colab_type": "text"
      },
      "source": [
        "#Reading a value ---Input function"
      ]
    },
    {
      "cell_type": "code",
      "metadata": {
        "id": "4DWZZwmMQJi9",
        "colab_type": "code",
        "outputId": "ce74c573-0247-477d-9624-17e26d27abb9",
        "colab": {
          "base_uri": "https://localhost:8080/",
          "height": 51
        }
      },
      "source": [
        "s=input(\"Enter your name\")\n",
        "print(s)"
      ],
      "execution_count": 0,
      "outputs": [
        {
          "output_type": "stream",
          "text": [
            "Enter your namesaaho\n",
            "saaho\n"
          ],
          "name": "stdout"
        }
      ]
    },
    {
      "cell_type": "code",
      "metadata": {
        "id": "67mu8BPvQWnN",
        "colab_type": "code",
        "outputId": "861809f0-ea59-405b-cc91-638175ba4aeb",
        "colab": {
          "base_uri": "https://localhost:8080/",
          "height": 68
        }
      },
      "source": [
        "s=int(input(\"Enter your age\"))\n",
        "print(s)\n",
        "print(type(s))"
      ],
      "execution_count": 0,
      "outputs": [
        {
          "output_type": "stream",
          "text": [
            "Enter your age20\n",
            "20\n",
            "<class 'int'>\n"
          ],
          "name": "stdout"
        }
      ]
    },
    {
      "cell_type": "markdown",
      "metadata": {
        "id": "60JvB1-NReIf",
        "colab_type": "text"
      },
      "source": [
        "#Operators\n",
        "-Operator is a symbol is used to perform a specific kind of operation"
      ]
    },
    {
      "cell_type": "code",
      "metadata": {
        "id": "6Clbqyz9RzxI",
        "colab_type": "code",
        "colab": {}
      },
      "source": [
        ""
      ],
      "execution_count": 0,
      "outputs": []
    },
    {
      "cell_type": "markdown",
      "metadata": {
        "id": "aX9UN11eR0AT",
        "colab_type": "text"
      },
      "source": [
        "#Arithematic Operator\n",
        "- +\n",
        "- -\n",
        "- *\n",
        "- /\n",
        "- %\n",
        "- //\n",
        "- **"
      ]
    },
    {
      "cell_type": "code",
      "metadata": {
        "id": "jTlitxrySHmV",
        "colab_type": "code",
        "colab": {}
      },
      "source": [
        ""
      ],
      "execution_count": 0,
      "outputs": []
    },
    {
      "cell_type": "code",
      "metadata": {
        "id": "IH_iYxJoSW4e",
        "colab_type": "code",
        "outputId": "51ff2dd3-8ddc-4319-9391-6d9b0f30b368",
        "colab": {
          "base_uri": "https://localhost:8080/",
          "height": 136
        }
      },
      "source": [
        "a=15\n",
        "print(a+25)\n",
        "print(a-10)\n",
        "print(a*5)\n",
        "print(a/3)\n",
        "print(a//10)\n",
        "print(a%10)\n",
        "print(a**2)"
      ],
      "execution_count": 0,
      "outputs": [
        {
          "output_type": "stream",
          "text": [
            "40\n",
            "5\n",
            "75\n",
            "5.0\n",
            "1\n",
            "5\n",
            "225\n"
          ],
          "name": "stdout"
        }
      ]
    },
    {
      "cell_type": "markdown",
      "metadata": {
        "id": "Y_CaClS4TryN",
        "colab_type": "text"
      },
      "source": [
        "#Precedence of Arth Operator\n",
        "-Parenthesis\n",
        "-Power\n",
        "-Multiplication\n",
        "-Division\n",
        "-Addition"
      ]
    },
    {
      "cell_type": "markdown",
      "metadata": {
        "id": "Hl918GxzUnFU",
        "colab_type": "text"
      },
      "source": [
        ""
      ]
    },
    {
      "cell_type": "code",
      "metadata": {
        "id": "iWlTKAcGUnac",
        "colab_type": "code",
        "outputId": "afd17a5e-6d8d-4d07-a841-58ecabfb2c67",
        "colab": {
          "base_uri": "https://localhost:8080/",
          "height": 34
        }
      },
      "source": [
        "x=1+2**3/4+5\n",
        "print(x)"
      ],
      "execution_count": 0,
      "outputs": [
        {
          "output_type": "stream",
          "text": [
            "8.0\n"
          ],
          "name": "stdout"
        }
      ]
    },
    {
      "cell_type": "code",
      "metadata": {
        "id": "YzrN1_IaVHXt",
        "colab_type": "code",
        "outputId": "05b91828-5b17-46cd-c7e6-2937b66bb536",
        "colab": {
          "base_uri": "https://localhost:8080/",
          "height": 34
        }
      },
      "source": [
        "x=1+2**3//4*5\n",
        "print(x)\n"
      ],
      "execution_count": 0,
      "outputs": [
        {
          "output_type": "stream",
          "text": [
            "11\n"
          ],
          "name": "stdout"
        }
      ]
    },
    {
      "cell_type": "markdown",
      "metadata": {
        "id": "4Rk6oxCBWHg8",
        "colab_type": "text"
      },
      "source": [
        "#Relational Operators\n",
        "->\n",
        "-<\n",
        "-<=\n",
        "->=\n",
        "-!=\n",
        "-==\n"
      ]
    },
    {
      "cell_type": "code",
      "metadata": {
        "id": "qdlIgicSWhYg",
        "colab_type": "code",
        "outputId": "32b4d486-39bf-4e11-fdb9-8992edeadc36",
        "colab": {
          "base_uri": "https://localhost:8080/",
          "height": 34
        }
      },
      "source": [
        "a=10\n",
        "a1=a>15\n",
        "print(a1)"
      ],
      "execution_count": 0,
      "outputs": [
        {
          "output_type": "stream",
          "text": [
            "False\n"
          ],
          "name": "stdout"
        }
      ]
    },
    {
      "cell_type": "markdown",
      "metadata": {
        "id": "qsLWOG7BW9zP",
        "colab_type": "text"
      },
      "source": [
        "#Logical Operator\n",
        "- and\n",
        "- or\n",
        "-not"
      ]
    },
    {
      "cell_type": "code",
      "metadata": {
        "id": "CC1u_CUOXY_d",
        "colab_type": "code",
        "outputId": "cbc1394c-baa5-4f1d-f344-8a73e41c44b7",
        "colab": {
          "base_uri": "https://localhost:8080/",
          "height": 68
        }
      },
      "source": [
        "x=20\n",
        "y=30\n",
        "print(x>=10 and x<=20)\n",
        "print(x>=10 or x>=20)\n",
        "print(not x)"
      ],
      "execution_count": 0,
      "outputs": [
        {
          "output_type": "stream",
          "text": [
            "True\n",
            "True\n",
            "False\n"
          ],
          "name": "stdout"
        }
      ]
    },
    {
      "cell_type": "markdown",
      "metadata": {
        "id": "bTYGxtnBYOew",
        "colab_type": "text"
      },
      "source": [
        "#Membership Operator"
      ]
    },
    {
      "cell_type": "code",
      "metadata": {
        "id": "Pb2PaDnGYiKO",
        "colab_type": "code",
        "outputId": "d9aea103-cbad-411a-d5c6-04c3ca3e3566",
        "colab": {
          "base_uri": "https://localhost:8080/",
          "height": 51
        }
      },
      "source": [
        "str1=\"abc\"\n",
        "print('a' in str1)\n",
        "print('a' not in str1)"
      ],
      "execution_count": 0,
      "outputs": [
        {
          "output_type": "stream",
          "text": [
            "True\n",
            "False\n"
          ],
          "name": "stdout"
        }
      ]
    },
    {
      "cell_type": "markdown",
      "metadata": {
        "id": "9Nl2sQi1ZArl",
        "colab_type": "text"
      },
      "source": [
        "#Conditional Statement\n",
        "\n",
        "##If-else Statements\n",
        "####Syntax:\n",
        "#####if condition:\n",
        ">Statements<br>\n",
        "#####if condition:\n",
        ">Statements"
      ]
    },
    {
      "cell_type": "code",
      "metadata": {
        "id": "5Lm8lfIwaIL5",
        "colab_type": "code",
        "outputId": "bf411734-d9c4-40ea-aae8-bde8eec6cc48",
        "colab": {
          "base_uri": "https://localhost:8080/",
          "height": 51
        }
      },
      "source": [
        "#odd or even\n",
        "n=int(input(\"Enter a number\"))\n",
        "if n%2==0:\n",
        "  print(\"Even\")\n",
        "else:\n",
        "  print(\"Odd\")"
      ],
      "execution_count": 0,
      "outputs": [
        {
          "output_type": "stream",
          "text": [
            "Enter a number3\n",
            "Odd\n"
          ],
          "name": "stdout"
        }
      ]
    },
    {
      "cell_type": "code",
      "metadata": {
        "id": "OWk-dMtAbBJR",
        "colab_type": "code",
        "outputId": "8e008aef-7b8d-47c2-c44b-75147ccf18eb",
        "colab": {
          "base_uri": "https://localhost:8080/",
          "height": 51
        }
      },
      "source": [
        "#check given is perfectly multiple of 3 and 5\n",
        "n=int(input(\"Enter a number\"))\n",
        "if n%3==0 and n%5==0:\n",
        "  print(\"Divisible\")\n",
        "else:\n",
        "  print(\"not divisible\")"
      ],
      "execution_count": 0,
      "outputs": [
        {
          "output_type": "stream",
          "text": [
            "Enter a number15\n",
            "Divisible\n"
          ],
          "name": "stdout"
        }
      ]
    },
    {
      "cell_type": "code",
      "metadata": {
        "id": "pjnY-jcybr3n",
        "colab_type": "code",
        "outputId": "cd1425db-91a6-4c80-ab01-c19e7b032094",
        "colab": {
          "base_uri": "https://localhost:8080/",
          "height": 51
        }
      },
      "source": [
        "#Given number is positive,negative or neutral\n",
        "n=int(input(\"Enter your number\"))\n",
        "if n>0:\n",
        "  print(\"Positive\")\n",
        "elif n==0:\n",
        "  print(\"Neutral\")\n",
        "else:\n",
        "  print(\"Negative\")"
      ],
      "execution_count": 0,
      "outputs": [
        {
          "output_type": "stream",
          "text": [
            "Enter your number-9\n",
            "Negative\n"
          ],
          "name": "stdout"
        }
      ]
    },
    {
      "cell_type": "code",
      "metadata": {
        "id": "UZRmGV-qdJ8V",
        "colab_type": "code",
        "outputId": "03d8f2df-0585-4552-b0d8-a5dc3306e75a",
        "colab": {
          "base_uri": "https://localhost:8080/",
          "height": 51
        }
      },
      "source": [
        "#Given number is leap year or not\n",
        "n=int(input(\"Enter the year\"))\n",
        "if n%400 or (n%100!=0 and n%4)==0:\n",
        "  print(\"Leap year\")\n",
        "else:\n",
        "  print(\"Not leap year\")"
      ],
      "execution_count": 0,
      "outputs": [
        {
          "output_type": "stream",
          "text": [
            "Enter the year2020\n",
            "Leap year\n"
          ],
          "name": "stdout"
        }
      ]
    },
    {
      "cell_type": "markdown",
      "metadata": {
        "id": "km-efvwfZfln",
        "colab_type": "text"
      },
      "source": [
        ""
      ]
    },
    {
      "cell_type": "code",
      "metadata": {
        "id": "jxciTkeyZGFm",
        "colab_type": "code",
        "colab": {}
      },
      "source": [
        ""
      ],
      "execution_count": 0,
      "outputs": []
    },
    {
      "cell_type": "code",
      "metadata": {
        "id": "cKJ26oDzXKsV",
        "colab_type": "code",
        "colab": {}
      },
      "source": [
        "x=20"
      ],
      "execution_count": 0,
      "outputs": []
    },
    {
      "cell_type": "code",
      "metadata": {
        "id": "Onb9E1i8Waqj",
        "colab_type": "code",
        "colab": {}
      },
      "source": [
        ""
      ],
      "execution_count": 0,
      "outputs": []
    },
    {
      "cell_type": "code",
      "metadata": {
        "id": "dS9UlLYtWZHd",
        "colab_type": "code",
        "colab": {}
      },
      "source": [
        ""
      ],
      "execution_count": 0,
      "outputs": []
    },
    {
      "cell_type": "code",
      "metadata": {
        "id": "SvIcPOo7MFm7",
        "colab_type": "code",
        "colab": {}
      },
      "source": [
        ""
      ],
      "execution_count": 0,
      "outputs": []
    }
  ]
}