{
  "nbformat": 4,
  "nbformat_minor": 0,
  "metadata": {
    "colab": {
      "name": "28/12/2019.ipynb",
      "provenance": [],
      "collapsed_sections": [],
      "include_colab_link": true
    },
    "kernelspec": {
      "name": "python3",
      "display_name": "Python 3"
    }
  },
  "cells": [
    {
      "cell_type": "markdown",
      "metadata": {
        "id": "view-in-github",
        "colab_type": "text"
      },
      "source": [
        "<a href=\"https://colab.research.google.com/github/sreepraneeth/Python/blob/master/28_12_2019.ipynb\" target=\"_parent\"><img src=\"https://colab.research.google.com/assets/colab-badge.svg\" alt=\"Open In Colab\"/></a>"
      ]
    },
    {
      "cell_type": "code",
      "metadata": {
        "id": "Ya0l_vOfoleE",
        "colab_type": "code",
        "colab": {
          "base_uri": "https://localhost:8080/",
          "height": 34
        },
        "outputId": "070c70bc-8821-48cf-90ea-9e31a63bc9a6"
      },
      "source": [
        "#input str=\"pynative\" output='p','n','t','v' complete this by using function\n",
        "def string(n):\n",
        "  li=list(n)\n",
        "  li=li[::2]\n",
        "  print(li)\n",
        "string(\"pynative\")\n"
      ],
      "execution_count": 30,
      "outputs": [
        {
          "output_type": "stream",
          "text": [
            "['p', 'n', 't', 'v']\n"
          ],
          "name": "stdout"
        }
      ]
    },
    {
      "cell_type": "code",
      "metadata": {
        "id": "fKvc31TJQ9Bk",
        "colab_type": "code",
        "colab": {
          "base_uri": "https://localhost:8080/",
          "height": 85
        },
        "outputId": "c7ffef3a-2b1a-4a21-ffaa-c6d87950234b"
      },
      "source": [
        "for i in [1,2,3,4][::-1]:\n",
        "  print(i)"
      ],
      "execution_count": 32,
      "outputs": [
        {
          "output_type": "stream",
          "text": [
            "4\n",
            "3\n",
            "2\n",
            "1\n"
          ],
          "name": "stdout"
        }
      ]
    },
    {
      "cell_type": "code",
      "metadata": {
        "id": "0WwaF76tqV9h",
        "colab_type": "code",
        "colab": {
          "base_uri": "https://localhost:8080/",
          "height": 34
        },
        "outputId": "4968b483-18bc-4b42-a65f-7c31e15b7d0d"
      },
      "source": [
        "def lists(n):\n",
        "  if(n[0]==n[-1]):\n",
        "    return \"true\"\n",
        "  else:\n",
        "    return \"false\"\n",
        "lists([1,3,5,7,1])"
      ],
      "execution_count": 17,
      "outputs": [
        {
          "output_type": "execute_result",
          "data": {
            "text/plain": [
              "'true'"
            ]
          },
          "metadata": {
            "tags": []
          },
          "execution_count": 17
        }
      ]
    },
    {
      "cell_type": "code",
      "metadata": {
        "id": "t5SroO01o5OG",
        "colab_type": "code",
        "colab": {
          "base_uri": "https://localhost:8080/",
          "height": 204
        },
        "outputId": "b7187f67-7541-4155-a922-d0899b73ce55"
      },
      "source": [
        "#1\n",
        "#2 2\n",
        "#3 3 3\n",
        "#4 4 4 4\n",
        "#5 5 5 5 5\n",
        "for i in range(1,6):\n",
        "  print(\"\\n\")\n",
        "  for j in range(1,i+1):\n",
        "    print(i,end=\" \")\n",
        "    \n",
        "    \n",
        "    \n",
        "    "
      ],
      "execution_count": 29,
      "outputs": [
        {
          "output_type": "stream",
          "text": [
            "\n",
            "\n",
            "1 \n",
            "\n",
            "2 2 \n",
            "\n",
            "3 3 3 \n",
            "\n",
            "4 4 4 4 \n",
            "\n",
            "5 5 5 5 5 "
          ],
          "name": "stdout"
        }
      ]
    },
    {
      "cell_type": "code",
      "metadata": {
        "id": "o2_FFvqYu4vs",
        "colab_type": "code",
        "colab": {}
      },
      "source": [
        "#create a program that asks the user to enter their name and age.Print out a message addressed to them that tells the year that they will turn 100 years old \n",
        "# input:name:2014\n",
        "# age=25\n",
        "user=int(input(\"Enter your name\"))\n",
        "age=int(input(\"Enter your age\"))\n",
        "\n"
      ],
      "execution_count": 0,
      "outputs": []
    }
  ]
}