{
  "nbformat": 4,
  "nbformat_minor": 0,
  "metadata": {
    "colab": {
      "name": "26/12/2019.ipynb",
      "provenance": [],
      "collapsed_sections": [],
      "include_colab_link": true
    },
    "kernelspec": {
      "name": "python3",
      "display_name": "Python 3"
    }
  },
  "cells": [
    {
      "cell_type": "markdown",
      "metadata": {
        "id": "view-in-github",
        "colab_type": "text"
      },
      "source": [
        "<a href=\"https://colab.research.google.com/github/sreepraneeth/Python/blob/master/26_12_2019.ipynb\" target=\"_parent\"><img src=\"https://colab.research.google.com/assets/colab-badge.svg\" alt=\"Open In Colab\"/></a>"
      ]
    },
    {
      "cell_type": "code",
      "metadata": {
        "id": "ZnLcA3vtUzCp",
        "colab_type": "code",
        "colab": {}
      },
      "source": [
        ""
      ],
      "execution_count": 0,
      "outputs": []
    },
    {
      "cell_type": "markdown",
      "metadata": {
        "id": "tREm83prU4i-",
        "colab_type": "text"
      },
      "source": [
        ""
      ]
    },
    {
      "cell_type": "code",
      "metadata": {
        "id": "MssoouokU40Q",
        "colab_type": "code",
        "colab": {
          "base_uri": "https://localhost:8080/",
          "height": 85
        },
        "outputId": "73e77659-f7d2-4ca8-f13b-00234f4099fc"
      },
      "source": [
        "#Find large number from given 3 numbers\n",
        "p=input(\"enter first number\")\n",
        "q=input(\"enter second number\")\n",
        "r=input(\"enter third number\")\n",
        "if(p>=q) and (p>=r):\n",
        "  print(p)\n",
        "elif(q>=p) and (q>=r):\n",
        "  print(q)\n",
        "else:\n",
        "  print(r)"
      ],
      "execution_count": 7,
      "outputs": [
        {
          "output_type": "stream",
          "text": [
            "enter first number20\n",
            "enter second number19\n",
            "enter third number18\n",
            "20\n"
          ],
          "name": "stdout"
        }
      ]
    },
    {
      "cell_type": "markdown",
      "metadata": {
        "id": "fY9ddB3XXwQl",
        "colab_type": "text"
      },
      "source": [
        "# While Statement\n",
        "###Syntax:\n",
        "#####while Boolean_condition:<br/>\n",
        "    statements<br/>\n",
        "    Increment/Decrement<br/> "
      ]
    },
    {
      "cell_type": "markdown",
      "metadata": {
        "id": "htZs_fKLYkbt",
        "colab_type": "text"
      },
      "source": [
        ""
      ]
    },
    {
      "cell_type": "code",
      "metadata": {
        "id": "0N_RKOgIZBV4",
        "colab_type": "code",
        "colab": {
          "base_uri": "https://localhost:8080/",
          "height": 102
        },
        "outputId": "12aacd76-ea26-42f9-c54e-cc92d7c12b29"
      },
      "source": [
        "x=0\n",
        "while(x<5):\n",
        "  print(x)\n",
        "  x+=1"
      ],
      "execution_count": 7,
      "outputs": [
        {
          "output_type": "stream",
          "text": [
            "0\n",
            "1\n",
            "2\n",
            "3\n",
            "4\n"
          ],
          "name": "stdout"
        }
      ]
    },
    {
      "cell_type": "code",
      "metadata": {
        "id": "7l2Uzehta2-U",
        "colab_type": "code",
        "colab": {
          "base_uri": "https://localhost:8080/",
          "height": 51
        },
        "outputId": "996abeb6-3a53-4a81-9966-d87ddc924dc6"
      },
      "source": [
        "#Print n natural number using while loop\n",
        "#input:10\n",
        "#output:1 2 3 4 5 6 7 8 9 10\n",
        "n=int(input(\"enter a number\"))\n",
        "i=1\n",
        "while(i<=n):\n",
        "  print(i,end=\" \")\n",
        "  i+=1\n"
      ],
      "execution_count": 13,
      "outputs": [
        {
          "output_type": "stream",
          "text": [
            "enter a number10\n",
            "1 2 3 4 5 6 7 8 9 10 "
          ],
          "name": "stdout"
        }
      ]
    },
    {
      "cell_type": "code",
      "metadata": {
        "id": "3Zv-B1TKcuiN",
        "colab_type": "code",
        "colab": {
          "base_uri": "https://localhost:8080/",
          "height": 51
        },
        "outputId": "43991f19-3cac-43eb-b029-055d52ff2306"
      },
      "source": [
        "#add only even number 1 to n\n",
        "#input:10\n",
        "#output:30(2+4+6+8+10)\n",
        "n=int(input(\"enter a number\"))\n",
        "sum=0\n",
        "i=1\n",
        "while(i<=n):\n",
        "  if(i%2==0):\n",
        "    sum+=i\n",
        "  i+=1\n",
        "print(sum)\n"
      ],
      "execution_count": 15,
      "outputs": [
        {
          "output_type": "stream",
          "text": [
            "enter a number10\n",
            "30\n"
          ],
          "name": "stdout"
        }
      ]
    },
    {
      "cell_type": "code",
      "metadata": {
        "id": "a6J7kbezhfhn",
        "colab_type": "code",
        "colab": {
          "base_uri": "https://localhost:8080/",
          "height": 51
        },
        "outputId": "3d30874a-ae7d-41e8-b8b6-d6ab3fef5074"
      },
      "source": [
        "#Palindrome\n",
        "#input:123\n",
        "#output:321\n",
        "n=int(input(\"enter your number\"))\n",
        "while(n>0):\n",
        "  rem=n%10\n",
        "  print(rem,end=\" \")\n",
        "  n=n//10\n"
      ],
      "execution_count": 22,
      "outputs": [
        {
          "output_type": "stream",
          "text": [
            "enter your number123\n",
            "3 2 1 "
          ],
          "name": "stdout"
        }
      ]
    },
    {
      "cell_type": "markdown",
      "metadata": {
        "id": "_3Vv-93QjhhF",
        "colab_type": "text"
      },
      "source": [
        "#Functional programming\n",
        "Simple<br/>\n",
        "Easy Read<br/>\n",
        "Divides large programs into small  sub programs\n",
        "\n",
        "\n",
        "\n",
        "\n",
        "\n",
        "\n",
        "\n",
        "\n",
        "\n"
      ]
    },
    {
      "cell_type": "markdown",
      "metadata": {
        "id": "bSxoAyxxkCrB",
        "colab_type": "text"
      },
      "source": [
        "#Syntax\n",
        "\n",
        "def nameofthefunction()"
      ]
    },
    {
      "cell_type": "code",
      "metadata": {
        "id": "U8yMqSN1X0rN",
        "colab_type": "code",
        "colab": {
          "base_uri": "https://localhost:8080/",
          "height": 34
        },
        "outputId": "7f731af6-5321-48ef-96b9-afff199ecd92"
      },
      "source": [
        "#input:1234\n",
        "#output:6(2+4)\n",
        "def addevendigit(n):\n",
        "  sum=0\n",
        "  while n>0:\n",
        "    r=n%10\n",
        "    if (r%2==0):\n",
        "      sum+=r\n",
        "    n=n//10\n",
        "  return sum\n",
        "addevendigit(1234)"
      ],
      "execution_count": 24,
      "outputs": [
        {
          "output_type": "execute_result",
          "data": {
            "text/plain": [
              "6"
            ]
          },
          "metadata": {
            "tags": []
          },
          "execution_count": 24
        }
      ]
    },
    {
      "cell_type": "code",
      "metadata": {
        "id": "wYVkyXztnRTs",
        "colab_type": "code",
        "colab": {
          "base_uri": "https://localhost:8080/",
          "height": 34
        },
        "outputId": "15149cb2-bcd3-4cc2-c296-2404966dfea9"
      },
      "source": [
        "#input:19528\n",
        "#output:9\n",
        "def largestdigit(n):\n",
        "  largest=0\n",
        "  while(n>0):\n",
        "    r=n%10\n",
        "    if(r>largest):\n",
        "      largest=r\n",
        "    n=n//10\n",
        "  return largest\n",
        "largestdigit(19528)"
      ],
      "execution_count": 28,
      "outputs": [
        {
          "output_type": "execute_result",
          "data": {
            "text/plain": [
              "9"
            ]
          },
          "metadata": {
            "tags": []
          },
          "execution_count": 28
        }
      ]
    },
    {
      "cell_type": "code",
      "metadata": {
        "id": "hjKYCb5OpRhc",
        "colab_type": "code",
        "colab": {
          "base_uri": "https://localhost:8080/",
          "height": 34
        },
        "outputId": "b8e49110-ffc4-421b-a9cf-9f46bd7f49fd"
      },
      "source": [
        "#input:123\n",
        "#output:321\n",
        "def palindrome(n):\n",
        "  pal=0\n",
        "  while(n>0):\n",
        "    rem=n%10\n",
        "    pal=pal*10+rem\n",
        "    n=n//10\n",
        "  return pal\n",
        "palindrome(123)\n",
        "  \n",
        "    "
      ],
      "execution_count": 30,
      "outputs": [
        {
          "output_type": "execute_result",
          "data": {
            "text/plain": [
              "321"
            ]
          },
          "metadata": {
            "tags": []
          },
          "execution_count": 30
        }
      ]
    },
    {
      "cell_type": "code",
      "metadata": {
        "id": "A6WjPVxLVwJf",
        "colab_type": "code",
        "colab": {
          "base_uri": "https://localhost:8080/",
          "height": 51
        },
        "outputId": "4d328531-8cf4-4246-8353-d42130916a5a"
      },
      "source": [
        "#input:123---123--yes,123----321--no\n",
        "def ispalindrome(n):\n",
        "  rev=0\n",
        "  buffer=n\n",
        "  while(n>0):\n",
        "    r=n%10\n",
        "    rev=rev*10+r\n",
        "    n=n//10\n",
        "  if(buffer==rev):\n",
        "    return \"yes\"\n",
        "  else:\n",
        "    return \"no\"\n",
        "print(ispalindrome(123))\n",
        "print(ispalindrome(121))\n"
      ],
      "execution_count": 34,
      "outputs": [
        {
          "output_type": "stream",
          "text": [
            "no\n",
            "yes\n"
          ],
          "name": "stdout"
        }
      ]
    },
    {
      "cell_type": "code",
      "metadata": {
        "id": "QNBiIMCax855",
        "colab_type": "code",
        "colab": {
          "base_uri": "https://localhost:8080/",
          "height": 34
        },
        "outputId": "2dbfa02b-45a7-439c-be93-f06cafa54ff0"
      },
      "source": [
        "#print natural numbers from 1 to n using function and for loop\n",
        "def natural(n):\n",
        "  for i in range(1,n+1):\n",
        "    print(i,end=\" \")\n",
        "natural(10)\n"
      ],
      "execution_count": 39,
      "outputs": [
        {
          "output_type": "stream",
          "text": [
            "1 4 7 10 "
          ],
          "name": "stdout"
        }
      ]
    },
    {
      "cell_type": "code",
      "metadata": {
        "id": "ynGGaLoGxCU6",
        "colab_type": "code",
        "colab": {
          "base_uri": "https://localhost:8080/",
          "height": 34
        },
        "outputId": "cda17a20-5549-4665-b1ad-8232782d823f"
      },
      "source": [
        "def natural(l):\n",
        "  for i in range(1,l+1,3):\n",
        "    print(i,end=\" \")\n",
        "natural(10)"
      ],
      "execution_count": 44,
      "outputs": [
        {
          "output_type": "stream",
          "text": [
            "1 4 7 10 "
          ],
          "name": "stdout"
        }
      ]
    },
    {
      "cell_type": "code",
      "metadata": {
        "id": "sNoBaGt-1_7U",
        "colab_type": "code",
        "colab": {
          "base_uri": "https://localhost:8080/",
          "height": 34
        },
        "outputId": "0c0dd586-df28-4851-9dff-b4dbbf1b47d1"
      },
      "source": [
        "def reverserange(start,end):\n",
        "  for i in range(end,start-1,-1):\n",
        "    print(i,end=\" \")\n",
        "reverserange(1,10)"
      ],
      "execution_count": 45,
      "outputs": [
        {
          "output_type": "stream",
          "text": [
            "10 9 8 7 6 5 4 3 2 1 "
          ],
          "name": "stdout"
        }
      ]
    },
    {
      "cell_type": "markdown",
      "metadata": {
        "id": "Y8Zn8yut4MlM",
        "colab_type": "text"
      },
      "source": [
        "#Data Structure\n",
        "-List<br/>\n",
        "-Tuple<br/>\n",
        "-Dictionary"
      ]
    },
    {
      "cell_type": "markdown",
      "metadata": {
        "id": "vVXTEwF24cIS",
        "colab_type": "text"
      },
      "source": [
        "#List:\n",
        "It is one of the data structure in pytho,the items are separated by comma and enclosed by [ ]\n",
        ">crud operation\n",
        "- c=create\n",
        "- r=read\n",
        "- u=update\n",
        "- d=delete\n",
        "- list can be changed\n",
        "\n",
        "## Example:\n",
        "-List=[1,2,3,4]"
      ]
    },
    {
      "cell_type": "code",
      "metadata": {
        "id": "CozR2I4l5zKx",
        "colab_type": "code",
        "colab": {
          "base_uri": "https://localhost:8080/",
          "height": 68
        },
        "outputId": "39aac578-df4a-4804-8c8b-cffbcb826ce3"
      },
      "source": [
        "li=[0,1,2,3,4,5] #+ve index starts from 0,1,2,3 -ve starts from -1,-2,-3,-4\n",
        "print(li)\n",
        "print(li[0])\n",
        "print(li[-1])"
      ],
      "execution_count": 48,
      "outputs": [
        {
          "output_type": "stream",
          "text": [
            "[0, 1, 2, 3, 4, 5]\n",
            "0\n",
            "5\n"
          ],
          "name": "stdout"
        }
      ]
    }
  ]
}