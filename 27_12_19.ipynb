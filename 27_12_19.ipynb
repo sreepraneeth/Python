{
  "nbformat": 4,
  "nbformat_minor": 0,
  "metadata": {
    "colab": {
      "name": "27/12/19.ipynb",
      "provenance": [],
      "collapsed_sections": [],
      "include_colab_link": true
    },
    "kernelspec": {
      "name": "python3",
      "display_name": "Python 3"
    }
  },
  "cells": [
    {
      "cell_type": "markdown",
      "metadata": {
        "id": "view-in-github",
        "colab_type": "text"
      },
      "source": [
        "<a href=\"https://colab.research.google.com/github/sreepraneeth/Python/blob/master/27_12_19.ipynb\" target=\"_parent\"><img src=\"https://colab.research.google.com/assets/colab-badge.svg\" alt=\"Open In Colab\"/></a>"
      ]
    },
    {
      "cell_type": "markdown",
      "metadata": {
        "id": "BfBPelVXhJtm",
        "colab_type": "text"
      },
      "source": [
        "#List Examples\n"
      ]
    },
    {
      "cell_type": "code",
      "metadata": {
        "id": "TL7K23yphSMe",
        "colab_type": "code",
        "outputId": "b5eddfbb-9849-4917-b47d-710f0c38dc61",
        "colab": {
          "base_uri": "https://localhost:8080/",
          "height": 153
        }
      },
      "source": [
        "li=[\"gitam\",12,124,1323,1323,3451]\n",
        "print(li)\n",
        "print(li[1])\n",
        "print(li[2:])\n",
        "print(li[2:4])\n",
        "print(li[-1])\n",
        "print(li[-4:-1])\n",
        "print(li[::-1])\n",
        "print(li[-1::-1])\n"
      ],
      "execution_count": 29,
      "outputs": [
        {
          "output_type": "stream",
          "text": [
            "['gitam', 12, 124, 1323, 1323, 3451]\n",
            "12\n",
            "[124, 1323, 1323, 3451]\n",
            "[124, 1323]\n",
            "3451\n",
            "[124, 1323, 1323]\n",
            "[3451, 1323, 1323, 124, 12, 'gitam']\n",
            "[3451, 1323, 1323, 124, 12, 'gitam']\n"
          ],
          "name": "stdout"
        }
      ]
    },
    {
      "cell_type": "code",
      "metadata": {
        "id": "oj8oOYK_h4BL",
        "colab_type": "code",
        "outputId": "229917ae-387d-4b8d-f357-fc3d427c47b6",
        "colab": {
          "base_uri": "https://localhost:8080/",
          "height": 34
        }
      },
      "source": [
        "#update\n",
        "li[0]=\"praneeth\"\n",
        "print(li)"
      ],
      "execution_count": 0,
      "outputs": [
        {
          "output_type": "stream",
          "text": [
            "['praneeth', 12, 124, 1323, 1323, 3451]\n"
          ],
          "name": "stdout"
        }
      ]
    },
    {
      "cell_type": "code",
      "metadata": {
        "id": "s9pM3XgCikSX",
        "colab_type": "code",
        "colab": {
          "base_uri": "https://localhost:8080/",
          "height": 34
        },
        "outputId": "85b8b1e9-1225-47d8-8ac8-9ed8e9ae3df3"
      },
      "source": [
        "#delete\n",
        "del li[3]\n",
        "print(li)"
      ],
      "execution_count": 3,
      "outputs": [
        {
          "output_type": "stream",
          "text": [
            "['praneeth', 12, 124, 1323, 3451]\n"
          ],
          "name": "stdout"
        }
      ]
    },
    {
      "cell_type": "code",
      "metadata": {
        "id": "CW5gBLNYikQg",
        "colab_type": "code",
        "colab": {
          "base_uri": "https://localhost:8080/",
          "height": 85
        },
        "outputId": "07ac486a-9635-4d16-8a51-c5a9b4382885"
      },
      "source": [
        "li=[1,23,3,4,545]\n",
        "print(len(li))\n",
        "print(li*2)\n",
        "print(5 in li)\n",
        "print(4 in li)"
      ],
      "execution_count": 4,
      "outputs": [
        {
          "output_type": "stream",
          "text": [
            "5\n",
            "[1, 23, 3, 4, 545, 1, 23, 3, 4, 545]\n",
            "False\n",
            "True\n"
          ],
          "name": "stdout"
        }
      ]
    },
    {
      "cell_type": "markdown",
      "metadata": {
        "id": "_kGSTibhjKbb",
        "colab_type": "text"
      },
      "source": [
        "#Basic List Functions\n"
      ]
    },
    {
      "cell_type": "code",
      "metadata": {
        "id": "R4bM8Fv-jRMZ",
        "colab_type": "code",
        "colab": {
          "base_uri": "https://localhost:8080/",
          "height": 85
        },
        "outputId": "9e2b0b2e-af1f-486f-b131-65ecb7033f57"
      },
      "source": [
        "li=[1,2,3,4,5,6]\n",
        "print(max(li))\n",
        "print(min(li))\n",
        "print(sum(li))\n",
        "print(sum(li)/len(li)) #Average"
      ],
      "execution_count": 8,
      "outputs": [
        {
          "output_type": "stream",
          "text": [
            "6\n",
            "1\n",
            "21\n",
            "3.5\n"
          ],
          "name": "stdout"
        }
      ]
    },
    {
      "cell_type": "code",
      "metadata": {
        "id": "W2Besjt3kXwp",
        "colab_type": "code",
        "colab": {
          "base_uri": "https://localhost:8080/",
          "height": 51
        },
        "outputId": "00c7865a-c6cd-48c4-fbd7-6ca8cee260c4"
      },
      "source": [
        "li=[1,2,3,4,5,6]\n",
        "li.append(29) #add an new element at the end of the list\n",
        "print(li)\n",
        "li.insert(2,56) #add an new element at a specific index\n",
        "print(li)"
      ],
      "execution_count": 13,
      "outputs": [
        {
          "output_type": "stream",
          "text": [
            "[1, 2, 3, 4, 5, 6, 29]\n",
            "[1, 2, 56, 3, 4, 5, 6, 29]\n"
          ],
          "name": "stdout"
        }
      ]
    },
    {
      "cell_type": "code",
      "metadata": {
        "id": "n2Aqmnc5kyU1",
        "colab_type": "code",
        "colab": {
          "base_uri": "https://localhost:8080/",
          "height": 68
        },
        "outputId": "ebe7e3ec-67cd-46b0-93eb-5c85c6409c40"
      },
      "source": [
        "li=[1,2,56,3,4,5,6,29]\n",
        "li.sort()#sorts list in ascending order\n",
        "print(li)\n",
        "li.pop()#last index will be deleted\n",
        "print(li)\n",
        "li.pop(1)#removes items from specific index\n",
        "print(li)"
      ],
      "execution_count": 15,
      "outputs": [
        {
          "output_type": "stream",
          "text": [
            "[1, 2, 3, 4, 5, 6, 29, 56]\n",
            "[1, 2, 3, 4, 5, 6, 29]\n",
            "[1, 3, 4, 5, 6, 29]\n"
          ],
          "name": "stdout"
        }
      ]
    },
    {
      "cell_type": "code",
      "metadata": {
        "id": "G_BbiYRFmDUV",
        "colab_type": "code",
        "colab": {
          "base_uri": "https://localhost:8080/",
          "height": 34
        },
        "outputId": "232145fc-1d02-4a5e-e124-768fafdd713b"
      },
      "source": [
        "li=[2,4,6,8,14,12]\n",
        "li.sort()\n",
        "li.pop()\n",
        "print(li)"
      ],
      "execution_count": 16,
      "outputs": [
        {
          "output_type": "stream",
          "text": [
            "[2, 4, 6, 8, 12]\n"
          ],
          "name": "stdout"
        }
      ]
    },
    {
      "cell_type": "code",
      "metadata": {
        "id": "seK_6cM_ndXy",
        "colab_type": "code",
        "colab": {
          "base_uri": "https://localhost:8080/",
          "height": 51
        },
        "outputId": "cd25b204-971a-4b4a-9e4f-859fea8fdc41"
      },
      "source": [
        "#function to return large number from list\n",
        "def largenumber(li):\n",
        "  li.sort()\n",
        "  return li[-1]\n",
        "def genericlarge(li,n):\n",
        "  li.sort()\n",
        "  return li[-n]\n",
        "li=[19,1,3,87,32,21,36]\n",
        "print(largenumber(li))\n",
        "print(genericlarge(li,3))#Returns the third largest number\n"
      ],
      "execution_count": 20,
      "outputs": [
        {
          "output_type": "stream",
          "text": [
            "87\n",
            "32\n"
          ],
          "name": "stdout"
        }
      ]
    },
    {
      "cell_type": "code",
      "metadata": {
        "id": "6JBr0_m4os8N",
        "colab_type": "code",
        "colab": {
          "base_uri": "https://localhost:8080/",
          "height": 51
        },
        "outputId": "c80312ec-37f9-4ba8-eab4-cd9cdd4fb408"
      },
      "source": [
        "#function to return small number from list\n",
        "def smallnumber(li):\n",
        "  li.sort()\n",
        "  return li[0]\n",
        "def genericsmall(li,n):\n",
        "  li.sort()\n",
        "  return li[n-1]\n",
        "li=[19,1,3,87,32,21,36]\n",
        "print(smallnumber(li))\n",
        "print(genericsmall(li,2))"
      ],
      "execution_count": 23,
      "outputs": [
        {
          "output_type": "stream",
          "text": [
            "1\n",
            "3\n"
          ],
          "name": "stdout"
        }
      ]
    },
    {
      "cell_type": "markdown",
      "metadata": {
        "id": "Qc2lYE9tqxRN",
        "colab_type": "text"
      },
      "source": [
        "#Tuple\n",
        "- values separated by comma enclosed by parenthesis()\n",
        "- values cannot be changed i.e immutable\n",
        "#Difference between List and Tuple\n",
        "> List\n",
        "- List can be modified\n",
        "- used to access means modify,add,delete,update\n",
        "> Tuple\n",
        "- Tuple cannot be modified\n",
        "- used to access data only"
      ]
    },
    {
      "cell_type": "code",
      "metadata": {
        "id": "cXCWqEtusgKj",
        "colab_type": "code",
        "colab": {
          "base_uri": "https://localhost:8080/",
          "height": 51
        },
        "outputId": "f677ac8d-4a7d-49c6-d5a0-0af98da8f675"
      },
      "source": [
        "t1=(1,2,3,4,5)\n",
        "print(t1)\n",
        "print(type(t1))"
      ],
      "execution_count": 25,
      "outputs": [
        {
          "output_type": "stream",
          "text": [
            "(1, 2, 3, 4, 5)\n",
            "<class 'tuple'>\n"
          ],
          "name": "stdout"
        }
      ]
    },
    {
      "cell_type": "markdown",
      "metadata": {
        "id": "1hyd2mEuvRKE",
        "colab_type": "text"
      },
      "source": [
        "#Dictionaries:\n",
        "- Works on concept of set unique data\n",
        "- Dictionary contains keys and values\n",
        "- Each key is separated from its values with colon ':'\n",
        "- Each key and values separated by comma\n",
        "- Dictionary enclosed by {}"
      ]
    },
    {
      "cell_type": "code",
      "metadata": {
        "id": "AKZa87ILwSli",
        "colab_type": "code",
        "colab": {
          "base_uri": "https://localhost:8080/",
          "height": 34
        },
        "outputId": "07e766e5-525a-43de-8e8e-41b0f5bc2586"
      },
      "source": [
        "d1={\"name\":\"Gitam\",\"email\":\"gitam@gmail.com\",\"address\":\"hyderabad\"}\n",
        "print(d1)\n"
      ],
      "execution_count": 34,
      "outputs": [
        {
          "output_type": "stream",
          "text": [
            "{'name': 'Gitam', 'email': 'gitam@gmail.com', 'address': 'hyderabad'}\n"
          ],
          "name": "stdout"
        }
      ]
    },
    {
      "cell_type": "code",
      "metadata": {
        "id": "DIuEyDF5wpZQ",
        "colab_type": "code",
        "colab": {
          "base_uri": "https://localhost:8080/",
          "height": 34
        },
        "outputId": "f374d803-f40e-4499-fa56-20b8b2fcea33"
      },
      "source": [
        "d1[\"name\"]"
      ],
      "execution_count": 33,
      "outputs": [
        {
          "output_type": "execute_result",
          "data": {
            "text/plain": [
              "'Gitam'"
            ]
          },
          "metadata": {
            "tags": []
          },
          "execution_count": 33
        }
      ]
    },
    {
      "cell_type": "code",
      "metadata": {
        "id": "ak0wOEjMyHqD",
        "colab_type": "code",
        "colab": {
          "base_uri": "https://localhost:8080/",
          "height": 34
        },
        "outputId": "f72abd8b-0c43-48db-dac2-087e06f6f86d"
      },
      "source": [
        "d1[\"email\"]=\"python@gmail.com\"\n",
        "print(d1)"
      ],
      "execution_count": 35,
      "outputs": [
        {
          "output_type": "stream",
          "text": [
            "{'name': 'Gitam', 'email': 'python@gmail.com', 'address': 'hyderabad'}\n"
          ],
          "name": "stdout"
        }
      ]
    },
    {
      "cell_type": "code",
      "metadata": {
        "id": "xnXNZf-_yYg1",
        "colab_type": "code",
        "colab": {
          "base_uri": "https://localhost:8080/",
          "height": 34
        },
        "outputId": "fd8f7a53-5343-4ee5-b46f-ddc65b4ddfcd"
      },
      "source": [
        "d1[\"course\"]=\"python\"\n",
        "print(d1)"
      ],
      "execution_count": 36,
      "outputs": [
        {
          "output_type": "stream",
          "text": [
            "{'name': 'Gitam', 'email': 'python@gmail.com', 'address': 'hyderabad', 'course': 'python'}\n"
          ],
          "name": "stdout"
        }
      ]
    },
    {
      "cell_type": "code",
      "metadata": {
        "id": "2nUNKEMRyopE",
        "colab_type": "code",
        "colab": {
          "base_uri": "https://localhost:8080/",
          "height": 34
        },
        "outputId": "c60510f8-7ce2-413d-bf36-fb8fa773e270"
      },
      "source": [
        "#delete\n",
        "del d1['email']\n",
        "print(d1)"
      ],
      "execution_count": 37,
      "outputs": [
        {
          "output_type": "stream",
          "text": [
            "{'name': 'Gitam', 'address': 'hyderabad', 'course': 'python'}\n"
          ],
          "name": "stdout"
        }
      ]
    },
    {
      "cell_type": "code",
      "metadata": {
        "id": "qjB-awkhy0ik",
        "colab_type": "code",
        "colab": {
          "base_uri": "https://localhost:8080/",
          "height": 34
        },
        "outputId": "a258200b-4efe-4e61-aae1-d2fb48dad9ee"
      },
      "source": [
        "d1.keys()"
      ],
      "execution_count": 38,
      "outputs": [
        {
          "output_type": "execute_result",
          "data": {
            "text/plain": [
              "dict_keys(['name', 'address', 'course'])"
            ]
          },
          "metadata": {
            "tags": []
          },
          "execution_count": 38
        }
      ]
    },
    {
      "cell_type": "code",
      "metadata": {
        "id": "XP-vLFot1Trc",
        "colab_type": "code",
        "colab": {
          "base_uri": "https://localhost:8080/",
          "height": 34
        },
        "outputId": "744c4a4a-8c1f-452a-8eb2-725d9d26a7bb"
      },
      "source": [
        "d1.values()"
      ],
      "execution_count": 39,
      "outputs": [
        {
          "output_type": "execute_result",
          "data": {
            "text/plain": [
              "dict_values(['Gitam', 'hyderabad', 'python'])"
            ]
          },
          "metadata": {
            "tags": []
          },
          "execution_count": 39
        }
      ]
    },
    {
      "cell_type": "code",
      "metadata": {
        "id": "MIn6g8O41XQ0",
        "colab_type": "code",
        "colab": {
          "base_uri": "https://localhost:8080/",
          "height": 34
        },
        "outputId": "688f3c38-f509-4b20-c244-101f30a83bf8"
      },
      "source": [
        "d1.items()"
      ],
      "execution_count": 40,
      "outputs": [
        {
          "output_type": "execute_result",
          "data": {
            "text/plain": [
              "dict_items([('name', 'Gitam'), ('address', 'hyderabad'), ('course', 'python')])"
            ]
          },
          "metadata": {
            "tags": []
          },
          "execution_count": 40
        }
      ]
    },
    {
      "cell_type": "code",
      "metadata": {
        "id": "fW9UqbOd1kgN",
        "colab_type": "code",
        "colab": {}
      },
      "source": [
        ""
      ],
      "execution_count": 0,
      "outputs": []
    },
    {
      "cell_type": "markdown",
      "metadata": {
        "id": "VbxUT9mI12kK",
        "colab_type": "text"
      },
      "source": [
        "#Strings:\n"
      ]
    },
    {
      "cell_type": "code",
      "metadata": {
        "id": "TQTMrA4B19WS",
        "colab_type": "code",
        "colab": {
          "base_uri": "https://localhost:8080/",
          "height": 51
        },
        "outputId": "2b9048b0-0de1-49fd-bc90-8ab2653fe01e"
      },
      "source": [
        "s1='Python'\n",
        "print(s1)\n",
        "print(type(s1))"
      ],
      "execution_count": 43,
      "outputs": [
        {
          "output_type": "stream",
          "text": [
            "Python\n",
            "<class 'str'>\n"
          ],
          "name": "stdout"
        }
      ]
    },
    {
      "cell_type": "code",
      "metadata": {
        "id": "SJCY26102Bbd",
        "colab_type": "code",
        "colab": {
          "base_uri": "https://localhost:8080/",
          "height": 119
        },
        "outputId": "d3df90db-8590-42f6-f673-ac2c1e388b4b"
      },
      "source": [
        "s1='Python'\n",
        "print(s1[0])\n",
        "print(s1[5])\n",
        "print(s1[2:])\n",
        "print(s1[::-1])\n",
        "print(s1[-1::-1])\n",
        "print(s1[1:3])\n"
      ],
      "execution_count": 48,
      "outputs": [
        {
          "output_type": "stream",
          "text": [
            "P\n",
            "n\n",
            "thon\n",
            "nohtyP\n",
            "nohtyP\n",
            "yt\n"
          ],
          "name": "stdout"
        }
      ]
    },
    {
      "cell_type": "code",
      "metadata": {
        "id": "z_E7tEHN2but",
        "colab_type": "code",
        "colab": {
          "base_uri": "https://localhost:8080/",
          "height": 51
        },
        "outputId": "97f49e0d-4506-4e7a-f7e4-24ef7547e9a4"
      },
      "source": [
        "s1=\"Python\"\n",
        "print(s1[len(s1)//2])\n",
        "print(s1[0:6:2]) #2 is increment"
      ],
      "execution_count": 51,
      "outputs": [
        {
          "output_type": "stream",
          "text": [
            "h\n",
            "Pto\n"
          ],
          "name": "stdout"
        }
      ]
    },
    {
      "cell_type": "code",
      "metadata": {
        "id": "0GH91UqP3gSK",
        "colab_type": "code",
        "colab": {
          "base_uri": "https://localhost:8080/",
          "height": 34
        },
        "outputId": "04a3489d-f086-4ed3-e113-997eca308efa"
      },
      "source": [
        "#using function reverse of a string\n",
        "def reverseofstring(str):\n",
        "  rev=str[::-1]\n",
        "  return rev\n",
        "reverseofstring(\"programming\")"
      ],
      "execution_count": 52,
      "outputs": [
        {
          "output_type": "execute_result",
          "data": {
            "text/plain": [
              "'gnimmargorp'"
            ]
          },
          "metadata": {
            "tags": []
          },
          "execution_count": 52
        }
      ]
    },
    {
      "cell_type": "code",
      "metadata": {
        "id": "C3GTFDCW4mJd",
        "colab_type": "code",
        "colab": {
          "base_uri": "https://localhost:8080/",
          "height": 34
        },
        "outputId": "e983948c-0beb-418c-bd22-cff2d0e21b97"
      },
      "source": [
        "#using function is palindrome or not for a string\n",
        "def palindrome(str):\n",
        "  buffer=str\n",
        "  pal=str[::-1]\n",
        "  if(buffer==pal):\n",
        "    print(\"palindrome\")\n",
        "  else:\n",
        "    print(\"not a palindrome\")\n",
        "palindrome(\"malayalam\")"
      ],
      "execution_count": 53,
      "outputs": [
        {
          "output_type": "stream",
          "text": [
            "palindrome\n"
          ],
          "name": "stdout"
        }
      ]
    },
    {
      "cell_type": "markdown",
      "metadata": {
        "id": "tv0AdmA38U7z",
        "colab_type": "text"
      },
      "source": [
        "#String built-in methods:\n",
        "- upper()\n",
        "- lower()\n",
        "- islower()\n",
        "- isupper()\n",
        "- istitle()\n",
        "- isnumeric()\n",
        "- isalpha()\n",
        "- isdigit()\n",
        "- isspace()"
      ]
    },
    {
      "cell_type": "code",
      "metadata": {
        "id": "n0c91ZVC8_4D",
        "colab_type": "code",
        "colab": {
          "base_uri": "https://localhost:8080/",
          "height": 153
        },
        "outputId": "bf9e500d-62b2-4f75-f6ca-3d7b39760df7"
      },
      "source": [
        "s1=\"Python\"\n",
        "print(s1.upper())\n",
        "print(s1.lower())\n",
        "print(s1.isupper())\n",
        "print(s1.islower())\n",
        "print(s1.istitle())\n",
        "print(s1.isnumeric())\n",
        "print(s1.isalpha())\n",
        "print(s1.isspace())"
      ],
      "execution_count": 64,
      "outputs": [
        {
          "output_type": "stream",
          "text": [
            "PYTHON\n",
            "python\n",
            "False\n",
            "False\n",
            "True\n",
            "False\n",
            "True\n",
            "False\n"
          ],
          "name": "stdout"
        }
      ]
    },
    {
      "cell_type": "code",
      "metadata": {
        "id": "xqa3Ogvx9HFg",
        "colab_type": "code",
        "colab": {
          "base_uri": "https://localhost:8080/",
          "height": 51
        },
        "outputId": "7f047b64-b37b-4adf-d6d5-7c2fae9f047a"
      },
      "source": [
        "s2=' '\n",
        "s3='Py th on'\n",
        "print(s2.isspace())\n",
        "print(s3.isspace())"
      ],
      "execution_count": 66,
      "outputs": [
        {
          "output_type": "stream",
          "text": [
            "True\n",
            "False\n"
          ],
          "name": "stdout"
        }
      ]
    },
    {
      "cell_type": "markdown",
      "metadata": {
        "id": "8tV37BAOAZGc",
        "colab_type": "text"
      },
      "source": [
        "#String Methods\n",
        "- join()-\n",
        "- split()\n",
        "- replace()"
      ]
    },
    {
      "cell_type": "code",
      "metadata": {
        "id": "OryN9PV9BA9D",
        "colab_type": "code",
        "colab": {
          "base_uri": "https://localhost:8080/",
          "height": 51
        },
        "outputId": "04c73b27-ceaa-4955-ad2d-67a5310d5f1c"
      },
      "source": [
        "s1='python'\n",
        "print(\"3\".join(s1))\n",
        "print(\",\".join(s1))"
      ],
      "execution_count": 67,
      "outputs": [
        {
          "output_type": "stream",
          "text": [
            "p3y3t3h3o3n\n",
            "p,y,t,h,o,n\n"
          ],
          "name": "stdout"
        }
      ]
    },
    {
      "cell_type": "code",
      "metadata": {
        "id": "OUQyetCABN_s",
        "colab_type": "code",
        "colab": {
          "base_uri": "https://localhost:8080/",
          "height": 34
        },
        "outputId": "018f92d8-f79c-4911-dec6-96249c414493"
      },
      "source": [
        "s2=\"python is easy to learn\"\n",
        "print(\",\".join(s2))"
      ],
      "execution_count": 68,
      "outputs": [
        {
          "output_type": "stream",
          "text": [
            "p,y,t,h,o,n, ,i,s, ,e,a,s,y, ,t,o, ,l,e,a,r,n\n"
          ],
          "name": "stdout"
        }
      ]
    },
    {
      "cell_type": "code",
      "metadata": {
        "id": "pCvSsYzwBot0",
        "colab_type": "code",
        "colab": {
          "base_uri": "https://localhost:8080/",
          "height": 51
        },
        "outputId": "e2beaadb-eb0b-46b2-8274-bec0eb576d26"
      },
      "source": [
        "s1=\"python is easy to learn\"\n",
        "print(s1.split())\n",
        "print(s1.split('a'))"
      ],
      "execution_count": 69,
      "outputs": [
        {
          "output_type": "stream",
          "text": [
            "['python', 'is', 'easy', 'to', 'learn']\n",
            "['python is e', 'sy to le', 'rn']\n"
          ],
          "name": "stdout"
        }
      ]
    },
    {
      "cell_type": "code",
      "metadata": {
        "id": "WLl-fonqCCdd",
        "colab_type": "code",
        "colab": {
          "base_uri": "https://localhost:8080/",
          "height": 408
        },
        "outputId": "9ed06ea0-cb58-4f8d-d8c8-a82be0aa5feb"
      },
      "source": [
        "s1=\"Python is easy to learn\"\n",
        "li=list(s1)\n",
        "li\n"
      ],
      "execution_count": 71,
      "outputs": [
        {
          "output_type": "execute_result",
          "data": {
            "text/plain": [
              "['P',\n",
              " 'y',\n",
              " 't',\n",
              " 'h',\n",
              " 'o',\n",
              " 'n',\n",
              " ' ',\n",
              " 'i',\n",
              " 's',\n",
              " ' ',\n",
              " 'e',\n",
              " 'a',\n",
              " 's',\n",
              " 'y',\n",
              " ' ',\n",
              " 't',\n",
              " 'o',\n",
              " ' ',\n",
              " 'l',\n",
              " 'e',\n",
              " 'a',\n",
              " 'r',\n",
              " 'n']"
            ]
          },
          "metadata": {
            "tags": []
          },
          "execution_count": 71
        }
      ]
    },
    {
      "cell_type": "code",
      "metadata": {
        "id": "qTMNHue_CuZ9",
        "colab_type": "code",
        "colab": {
          "base_uri": "https://localhost:8080/",
          "height": 34
        },
        "outputId": "c4ad213b-387b-43de-f029-e192673ece71"
      },
      "source": [
        "s1=\"Python is easy to learn\"\n",
        "print(s1.replace(\"easy\",\"very easy\"))"
      ],
      "execution_count": 72,
      "outputs": [
        {
          "output_type": "stream",
          "text": [
            "Python is very easy to learn\n"
          ],
          "name": "stdout"
        }
      ]
    },
    {
      "cell_type": "code",
      "metadata": {
        "colab_type": "code",
        "outputId": "9fc6ecef-a0f5-46a3-8386-9ce06d3a4607",
        "id": "Nvg_2XQfHTI5",
        "colab": {
          "base_uri": "https://localhost:8080/",
          "height": 85
        }
      },
      "source": [
        "marks={'peter':[80,85,90],'joe':[86,90,95]}\n",
        "#output:1)[80,85,90] 2)85 3)86 4)[95,90,86]\n",
        "print(marks[\"peter\"])\n",
        "s=(marks[\"peter\"])\n",
        "print(s[1])\n",
        "s1=(marks[\"joe\"])\n",
        "print(s1[0])\n",
        "s1=s1[::-1]\n",
        "print(s1)\n",
        "\n",
        "\n"
      ],
      "execution_count": 109,
      "outputs": [
        {
          "output_type": "stream",
          "text": [
            "[80, 85, 90]\n",
            "85\n",
            "86\n",
            "[95, 90, 86]\n"
          ],
          "name": "stdout"
        }
      ]
    },
    {
      "cell_type": "code",
      "metadata": {
        "id": "GSquN0YREgkT",
        "colab_type": "code",
        "colab": {}
      },
      "source": [
        ""
      ],
      "execution_count": 0,
      "outputs": []
    }
  ]
}